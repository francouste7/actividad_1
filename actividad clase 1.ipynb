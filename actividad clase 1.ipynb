{
 "cells": [
  {
   "cell_type": "code",
   "execution_count": 11,
   "id": "7eda39fb-4847-4693-914d-15a77f341e8c",
   "metadata": {},
   "outputs": [
    {
     "name": "stdout",
     "output_type": "stream",
     "text": [
      "EJERCICIO 0 Y 1\n"
     ]
    }
   ],
   "source": [
    "print(\"EJERCICIO 0 Y 1\")"
   ]
  },
  {
   "cell_type": "code",
   "execution_count": 3,
   "id": "a20745a3-0a30-4386-9d4e-f0bc80d2a31c",
   "metadata": {},
   "outputs": [
    {
     "name": "stdin",
     "output_type": "stream",
     "text": [
      "Indique nombre y edad: Francisco 22 años\n"
     ]
    }
   ],
   "source": [
    "DATOS = input(\"Indique nombre y edad:\")"
   ]
  },
  {
   "cell_type": "code",
   "execution_count": 8,
   "id": "9dc6b268-6b1a-45e5-bd06-f1cdef72f8b5",
   "metadata": {},
   "outputs": [],
   "source": [
    "nombre = \"Francisco\"\n",
    "edad = 23 "
   ]
  },
  {
   "cell_type": "code",
   "execution_count": 9,
   "id": "636c0a44-667b-4f97-854a-553b52686997",
   "metadata": {},
   "outputs": [
    {
     "name": "stdout",
     "output_type": "stream",
     "text": [
      "Hola Francisco tienes 23 años\n"
     ]
    }
   ],
   "source": [
    "print(\"Hola\" , nombre , \"tienes\" , edad , \"años\")"
   ]
  },
  {
   "cell_type": "code",
   "execution_count": 12,
   "id": "0a833673-25bf-4626-ba2e-8a13fb8cb70c",
   "metadata": {},
   "outputs": [
    {
     "name": "stdout",
     "output_type": "stream",
     "text": [
      "EJERCICIO 2\n"
     ]
    }
   ],
   "source": [
    "print(\"EJERCICIO 2\")"
   ]
  },
  {
   "cell_type": "code",
   "execution_count": 14,
   "id": "9c635a44-9421-4619-aaea-2c0a3fae7514",
   "metadata": {
    "scrolled": true
   },
   "outputs": [
    {
     "name": "stdin",
     "output_type": "stream",
     "text": [
      "ingrese un numero: 7\n"
     ]
    },
    {
     "data": {
      "text/plain": [
       "'7'"
      ]
     },
     "execution_count": 14,
     "metadata": {},
     "output_type": "execute_result"
    }
   ],
   "source": [
    "input(\"ingrese un numero:\")"
   ]
  },
  {
   "cell_type": "code",
   "execution_count": 15,
   "id": "d879bb82-3cd7-401b-b88e-0b2a9ea83b24",
   "metadata": {},
   "outputs": [],
   "source": [
    "numero = 7"
   ]
  },
  {
   "cell_type": "code",
   "execution_count": 18,
   "id": "b7c4e4dc-354c-494a-bc22-92ccbba731ef",
   "metadata": {},
   "outputs": [
    {
     "name": "stdout",
     "output_type": "stream",
     "text": [
      "el numero seleccionado es positivo\n"
     ]
    }
   ],
   "source": [
    "if (numero > 0):\n",
    "    print(\"el numero seleccionado es positivo\")\n"
   ]
  },
  {
   "cell_type": "code",
   "execution_count": 19,
   "id": "a91a3453-4686-4c57-b38d-9b0b7328c29e",
   "metadata": {},
   "outputs": [
    {
     "name": "stdout",
     "output_type": "stream",
     "text": [
      "EJERCICIO 3\n"
     ]
    }
   ],
   "source": [
    "print(\"EJERCICIO 3\")"
   ]
  },
  {
   "cell_type": "code",
   "execution_count": 22,
   "id": "0689a00d-dfc5-4920-ade3-453eac60cf68",
   "metadata": {},
   "outputs": [
    {
     "name": "stdin",
     "output_type": "stream",
     "text": [
      "seleccione dos numeros 8 19\n"
     ]
    },
    {
     "data": {
      "text/plain": [
       "'8 19'"
      ]
     },
     "execution_count": 22,
     "metadata": {},
     "output_type": "execute_result"
    }
   ],
   "source": [
    "input(\"seleccione dos numeros\")\n"
   ]
  },
  {
   "cell_type": "code",
   "execution_count": 24,
   "id": "09a0eea2-3e7c-43e2-8fe0-8ce2ba646210",
   "metadata": {},
   "outputs": [],
   "source": [
    "numero1 = 8\n",
    "numero2 = 19"
   ]
  },
  {
   "cell_type": "code",
   "execution_count": 25,
   "id": "1c3cc0b8-cc65-477c-aaa4-ac2ab73a92a9",
   "metadata": {},
   "outputs": [
    {
     "name": "stdout",
     "output_type": "stream",
     "text": [
      "el numero 19 es mayor al numero 8\n"
     ]
    }
   ],
   "source": [
    "if (numero1 > numero2) :\n",
    "    print(\"el numero 8 es mayor al numero 19\")\n",
    "else : print(\"el numero 19 es mayor al numero 8\")\n",
    "          "
   ]
  },
  {
   "cell_type": "code",
   "execution_count": 58,
   "id": "34a9bc34-df19-43a4-8c77-6ab24aa1eaf3",
   "metadata": {},
   "outputs": [
    {
     "name": "stdin",
     "output_type": "stream",
     "text": [
      "Ingrese su calificacion obtenida: 72\n"
     ]
    }
   ],
   "source": [
    "califiacion = int(input(\"Ingrese su calificacion obtenida:\"))"
   ]
  },
  {
   "cell_type": "code",
   "execution_count": 59,
   "id": "889e7d05-b7eb-4a17-9eb4-b9cd3f891920",
   "metadata": {},
   "outputs": [
    {
     "data": {
      "text/plain": [
       "int"
      ]
     },
     "execution_count": 59,
     "metadata": {},
     "output_type": "execute_result"
    }
   ],
   "source": [
    "type(calificacion)"
   ]
  },
  {
   "cell_type": "code",
   "execution_count": 66,
   "id": "4ab4bbfe-6856-4aff-958f-f27c495b27b2",
   "metadata": {},
   "outputs": [
    {
     "name": "stdout",
     "output_type": "stream",
     "text": [
      "La calificacion es C\n"
     ]
    }
   ],
   "source": [
    "if (calificacion >= 90 <= 100) :\n",
    "    print(\"La calificacion es A\")\n",
    "elif(califiacion >=80 <= 89) :\n",
    "    print(\"La calificacion es B\")\n",
    "elif(calificacion >= 70 <= 70) :\n",
    "    print(\"La calificacion es C\")\n",
    "elif(califiacion >= 60 <= 69) :\n",
    "    print(\"La calificacion es D\")\n",
    "\n",
    "else:\n",
    "    print(\"La calificacion es F\")\n"
   ]
  },
  {
   "cell_type": "code",
   "execution_count": null,
   "id": "0d08c708-d0ff-4a73-83d6-e016eb75cebb",
   "metadata": {},
   "outputs": [],
   "source": []
  }
 ],
 "metadata": {
  "kernelspec": {
   "display_name": "Python 3 (ipykernel)",
   "language": "python",
   "name": "python3"
  },
  "language_info": {
   "codemirror_mode": {
    "name": "ipython",
    "version": 3
   },
   "file_extension": ".py",
   "mimetype": "text/x-python",
   "name": "python",
   "nbconvert_exporter": "python",
   "pygments_lexer": "ipython3",
   "version": "3.11.5"
  }
 },
 "nbformat": 4,
 "nbformat_minor": 5
}
