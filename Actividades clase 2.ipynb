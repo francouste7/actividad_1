{
 "cells": [
  {
   "cell_type": "markdown",
   "id": "12458b54-7001-4ca6-a8f6-ff95c86cfad9",
   "metadata": {},
   "source": [
    "# VECTORES"
   ]
  },
  {
   "cell_type": "markdown",
   "id": "948e43cd-4d03-4d7b-a28c-5d7a565b928c",
   "metadata": {},
   "source": [
    "a. Crea una lista con todas tus materias cursadas e iterala con un ciclo for imprimiendo un mensaje en pantalla\n"
   ]
  },
  {
   "cell_type": "code",
   "execution_count": 2,
   "id": "5d743fce-fe0d-427a-9779-a501b93c1fd2",
   "metadata": {},
   "outputs": [],
   "source": [
    "Materias= [\"Derecho\" ,\"Administracion de Perosnal\",\"Psicologia\",\"Economia\",\"Estadistica\",\"Sociologia\",\"HIstoria\",\"Computacion\",\"Ingles\",\"TYCO\" ]"
   ]
  },
  {
   "cell_type": "code",
   "execution_count": 7,
   "id": "065cb11d-c305-44c5-99da-5d292b8d3710",
   "metadata": {},
   "outputs": [
    {
     "name": "stdout",
     "output_type": "stream",
     "text": [
      "que bueno que hayas aprobado Derecho , felicitaciones!\n",
      "que bueno que hayas aprobado Administracion de Perosnal , felicitaciones!\n",
      "que bueno que hayas aprobado Psicologia , felicitaciones!\n",
      "que bueno que hayas aprobado Economia , felicitaciones!\n",
      "que bueno que hayas aprobado Estadistica , felicitaciones!\n",
      "que bueno que hayas aprobado Sociologia , felicitaciones!\n",
      "que bueno que hayas aprobado HIstoria , felicitaciones!\n",
      "que bueno que hayas aprobado Computacion , felicitaciones!\n",
      "que bueno que hayas aprobado Ingles , felicitaciones!\n",
      "que bueno que hayas aprobado TYCO , felicitaciones!\n"
     ]
    }
   ],
   "source": [
    "for x in Materias:\n",
    "    print(\"que bueno que hayas aprobado\" , x , \", felicitaciones!\")"
   ]
  },
  {
   "cell_type": "code",
   "execution_count": null,
   "id": "ae785eab-9333-41b8-975d-6121d0d856b0",
   "metadata": {},
   "outputs": [],
   "source": []
  },
  {
   "cell_type": "markdown",
   "id": "c60c2b50-29e6-46c1-a977-b5a068b68735",
   "metadata": {},
   "source": [
    "b.Suma de elementos: Crea una lista de números y escribe un programa que calcule la suma de todos los elementos en la lista.\n"
   ]
  },
  {
   "cell_type": "code",
   "execution_count": 10,
   "id": "ffadc1f8-043f-49f9-b0ab-51d430d4823f",
   "metadata": {},
   "outputs": [
    {
     "data": {
      "text/plain": [
       "11"
      ]
     },
     "execution_count": 10,
     "metadata": {},
     "output_type": "execute_result"
    }
   ],
   "source": [
    "numeros = [4,7,23,34,66,12,45,09.69,8,15,11]\n",
    "\n",
    "len(numeros)"
   ]
  },
  {
   "cell_type": "markdown",
   "id": "95aff242-c395-4fe5-8f7a-3fa15d792abd",
   "metadata": {},
   "source": [
    "c. Buscar el máximo: Escribe un programa que encuentre el valor máximo en una lista de números.\n",
    "\n",
    "max()"
   ]
  },
  {
   "cell_type": "code",
   "execution_count": 11,
   "id": "9f8e57d9-7a79-485c-9864-6ac15e94f8bd",
   "metadata": {},
   "outputs": [
    {
     "data": {
      "text/plain": [
       "66"
      ]
     },
     "execution_count": 11,
     "metadata": {},
     "output_type": "execute_result"
    }
   ],
   "source": [
    "max(numeros)"
   ]
  },
  {
   "cell_type": "markdown",
   "id": "bb350211-8314-4dcc-80ec-c68504a13463",
   "metadata": {},
   "source": [
    "c. Crea un programa que calcule el promedio de todos los elementos de un vector.\n",
    "\n",
    "promedio --> sum (numeros)/float (len (numeros))"
   ]
  },
  {
   "cell_type": "code",
   "execution_count": 12,
   "id": "d0d255fc-9e45-437e-93fe-b7ff82efa5bb",
   "metadata": {},
   "outputs": [
    {
     "data": {
      "text/plain": [
       "21.335454545454546"
      ]
     },
     "execution_count": 12,
     "metadata": {},
     "output_type": "execute_result"
    }
   ],
   "source": [
    "sum (numeros)/float (len (numeros))"
   ]
  },
  {
   "cell_type": "code",
   "execution_count": 15,
   "id": "83335803-d1e9-4fd0-9b91-3e1cad90c9e8",
   "metadata": {},
   "outputs": [
    {
     "name": "stdout",
     "output_type": "stream",
     "text": [
      "[4, 7, 23, 34, 66, 12, 45, 9.69, 8, 15, 11]\n"
     ]
    },
    {
     "data": {
      "text/plain": [
       "11"
      ]
     },
     "execution_count": 15,
     "metadata": {},
     "output_type": "execute_result"
    }
   ],
   "source": [
    "print(numeros)\n",
    "len(numeros)"
   ]
  },
  {
   "cell_type": "markdown",
   "id": "89a5e210-b0b6-41c6-baab-7f94c1c5cfb7",
   "metadata": {},
   "source": [
    "OTRA OPCION PROMEDIO\n",
    "\n"
   ]
  },
  {
   "cell_type": "code",
   "execution_count": 23,
   "id": "7ff42a6b-2d0b-4b88-9749-af262fb5d50f",
   "metadata": {},
   "outputs": [
    {
     "name": "stdout",
     "output_type": "stream",
     "text": [
      "El promedio obtenido es: 21.335454545454546\n"
     ]
    }
   ],
   "source": [
    "valores =len(numeros)\n",
    "suma = 0 \n",
    "\n",
    "for numero in numeros:\n",
    "    suma+= numero\n",
    "\n",
    "promedio = suma/valores\n",
    "print(f\"El promedio obtenido es: {promedio}\")"
   ]
  },
  {
   "cell_type": "code",
   "execution_count": null,
   "id": "7919c284-2d92-45b1-b4a1-de57a9b76205",
   "metadata": {},
   "outputs": [],
   "source": []
  },
  {
   "cell_type": "markdown",
   "id": "5b08937f-62e0-46ae-883b-cc95b509756d",
   "metadata": {},
   "source": [
    "# Diccionarios "
   ]
  },
  {
   "cell_type": "markdown",
   "id": "f0137893-ddd7-487e-b0bf-861952a856ee",
   "metadata": {},
   "source": [
    "Registro de estudiantes: Crea un diccionario en el que las claves sean los nombres de los estudiantes y los valores sean sus calificaciones. Luego, escribe un programa que permita al usuario buscar la calificación de un estudiante por su nombre. \n"
   ]
  },
  {
   "cell_type": "code",
   "execution_count": 4,
   "id": "daeebb4a-4a1c-4605-bc40-58b02691b4fa",
   "metadata": {},
   "outputs": [],
   "source": [
    "Estudiantes = { \n",
    "    \"Pedro\":8 , \n",
    "    \"Martina\":6 , \n",
    "    \"Lucas\":5 , \n",
    "    \"Omar\":2 , \n",
    "    \"Esteban\":9}"
   ]
  },
  {
   "cell_type": "code",
   "execution_count": 7,
   "id": "8a06e176-9422-43f7-afac-60c1d70e0f4a",
   "metadata": {},
   "outputs": [
    {
     "data": {
      "text/plain": [
       "2"
      ]
     },
     "execution_count": 7,
     "metadata": {},
     "output_type": "execute_result"
    }
   ],
   "source": [
    "Estudiantes [\"Omar\"]"
   ]
  },
  {
   "cell_type": "markdown",
   "id": "44d16a66-d25b-4963-bb74-3cff6682fe35",
   "metadata": {},
   "source": [
    "Crea un diccionario que contenga tu nombre, edad, hobbies, y toda la información que consideres relevante para presentarte en el curso\n",
    "\n"
   ]
  },
  {
   "cell_type": "code",
   "execution_count": 15,
   "id": "302e7f4a-1d3c-4efd-84f8-4aff44f1c82f",
   "metadata": {},
   "outputs": [],
   "source": [
    "Persona = {\n",
    "    \"Nombre\":\"Francisco\" ,\n",
    "    \"Edad\": 23 , \n",
    "    \"Hobbies\":[\"entrenar\" , \"jugar al futbol\" , \"cocinar\", \"juntarme con amigxs\"] ,\n",
    "    \"Mascota\":True }\n"
   ]
  },
  {
   "cell_type": "markdown",
   "id": "66a8f53e-dbe1-4481-a0d6-e44ff02701c0",
   "metadata": {},
   "source": [
    "Contar elementos: Crea un diccionario que represente una bolsa con diferentes tipos de frutas y la cantidad de cada tipo de fruta en la bolsa. Escribe un programa que cuente cuántas frutas hay en total.\n"
   ]
  },
  {
   "cell_type": "code",
   "execution_count": 19,
   "id": "3ac32519-06c8-4453-afa1-b5767d42accc",
   "metadata": {},
   "outputs": [
    {
     "data": {
      "text/plain": [
       "6"
      ]
     },
     "execution_count": 19,
     "metadata": {},
     "output_type": "execute_result"
    }
   ],
   "source": [
    "Bolson_Frutas = {\n",
    "    \"Naranja\": \"2kg\" ,\n",
    "    \"Manzana\" : \"1,5kg\" , \n",
    "    \"Banana\" : \"3kg\" ,\n",
    "    \"Pera\" :\"2,5kg\" ,\n",
    "    \"Anana\" : \"2kg\" ,\n",
    "    \"Kiwi\" : \"3kg\" }\n",
    "\n",
    "len(Bolson_Frutas)"
   ]
  }
 ],
 "metadata": {
  "kernelspec": {
   "display_name": "Python 3 (ipykernel)",
   "language": "python",
   "name": "python3"
  },
  "language_info": {
   "codemirror_mode": {
    "name": "ipython",
    "version": 3
   },
   "file_extension": ".py",
   "mimetype": "text/x-python",
   "name": "python",
   "nbconvert_exporter": "python",
   "pygments_lexer": "ipython3",
   "version": "3.11.5"
  }
 },
 "nbformat": 4,
 "nbformat_minor": 5
}
